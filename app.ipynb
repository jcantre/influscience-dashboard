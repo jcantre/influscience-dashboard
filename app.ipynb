{
 "cells": [
  {
   "cell_type": "markdown",
   "id": "b7727046-4cc1-4288-a23d-9b86b594401e",
   "metadata": {},
   "source": [
    "### App!"
   ]
  },
  {
   "cell_type": "code",
   "execution_count": 30,
   "id": "cd279ac9-8196-4a16-8643-d92b09169e03",
   "metadata": {},
   "outputs": [],
   "source": [
    "import hvplot.pandas\n",
    "import panel as pn\n",
    "import pandas as pd\n",
    "import holoviews as hv\n",
    "import plotly\n",
    "from holoviews import opts\n",
    "#hvplot.extension('plotly')"
   ]
  },
  {
   "cell_type": "markdown",
   "id": "a38cdba9-9fda-4c22-a21a-7c6c3f9ae6b7",
   "metadata": {},
   "source": [
    "#### Data"
   ]
  },
  {
   "cell_type": "code",
   "execution_count": 49,
   "id": "3a70f644-6704-41e1-aee3-1ec4f417c35b",
   "metadata": {},
   "outputs": [],
   "source": [
    "# loading data\n",
    "#df = pd.read_table('5-Org_indicators.tsv')\n",
    "#ins = pd.read_csv('4-Org_master_list_edited.csv')\n",
    "\n",
    "data_indicators = (\"https://raw.githubusercontent.com/jcantre/influscience-dashboard/main/5-Org_indicators.tsv\")\n",
    "df = pd.read_table(data_indicators)\n",
    "\n",
    "master_list = (\"https://raw.githubusercontent.com/jcantre/influscience-dashboard/main/4-Org_master_list_edited.csv\")\n",
    "ins = pd.read_csv(master_list)\n",
    "\n",
    "names = ins['name']\n",
    "\n",
    "# add university acronyms to df\n",
    "info = ins[['institution_id', 'acronym']]\n",
    "info = info.set_index('institution_id')\n",
    "legend = info.to_dict()['acronym']\n",
    "uni_num = df['institution_id'].tolist()\n",
    "uni_name = [legend[uni] for uni in uni_num]\n",
    "df['institution_acr'] = uni_name\n",
    "\n",
    "# add university names to df\n",
    "info = ins[['institution_id', 'name']]\n",
    "info = info.set_index('institution_id')\n",
    "legend = info.to_dict()['name']\n",
    "uni_num = df['institution_id'].tolist()\n",
    "uni_name = [legend[uni] for uni in uni_num]\n",
    "df['institution_name'] = uni_name\n",
    "\n",
    "# add type to df\n",
    "info = ins[['institution_id', 'organization_type']]\n",
    "info = info.set_index('institution_id')\n",
    "legend = info.to_dict()['organization_type']\n",
    "uni_num = df['institution_id'].tolist()\n",
    "org_type = [legend[uni] for uni in uni_num]\n",
    "df['type'] = org_type\n",
    "\n",
    "\n",
    "# add total interaction column\n",
    "df['total'] = df['total_aas'] + df['total_tw'] + df['total_wp'] + df['total_nw'] + df['total_po']\n",
    "\n",
    "df.rename(columns = {'total_aas':'altmetric attention score', 'total_tw': 'twitter', 'total_wp': 'wikipedia', 'total_nw': 'news media', 'total_po': 'policy'}, inplace = True)\n",
    "\n",
    "# only want universities\n",
    "df_uni = df[df.type == 'University']\n",
    "df_hospital = df[df.type == 'Hospital']"
   ]
  },
  {
   "cell_type": "markdown",
   "id": "5320897c-2cbd-475e-bd5a-a695286d97a8",
   "metadata": {},
   "source": [
    "#### Interaction Quantity Compare"
   ]
  },
  {
   "cell_type": "code",
   "execution_count": 50,
   "id": "3633fb5c-4f9a-4bc2-950f-9a6fd553fe83",
   "metadata": {},
   "outputs": [],
   "source": [
    "total_to_pub = {'twitter': 'tw_publications', 'altmetric attention score': 'aas_publications', 'policy': 'po_publications', 'wikipedia': 'wp_publications', 'news media': 'nw_publications'}\n",
    "mini_df = df_uni[['esi', 'institution_acr', 'altmetric attention score', 'twitter', 'wikipedia', 'news media', 'policy']]\n",
    "\n",
    "def get_plot(uni='UB', metric='twitter'):\n",
    "    df_temp = df_uni[(df_uni.institution_acr == uni)]\n",
    "    bar_plot = df_temp.hvplot.bar(x='esi', y=metric, legend='top', label='interactions', xlabel=None) # legend is documented bug\n",
    "    scatter_plot = df_temp.hvplot.scatter(x='esi', y=total_to_pub[metric], c='red', legend='top', label='content quantity', xlabel=None)\n",
    "    plots = bar_plot * scatter_plot\n",
    "    plots.opts(opts.Overlay(title='Interactions based on Content Quantity', xaxis=None, height=500))\n",
    "    return plots\n",
    "\n",
    "dmap_int_quant = hv.DynamicMap(get_plot, kdims=['uni', 'metric']).redim.values(uni=list(df_uni.institution_acr.unique()), metric=['altmetric attention score', 'twitter', 'wikipedia', 'news media', 'policy'])\n",
    "\n",
    "int_quant_compare = pn.pane.HoloViews(dmap_int_quant, widgets={\n",
    "    'metric': pn.widgets.Select, \n",
    "    'uni': pn.widgets.Select}, center=True).layout"
   ]
  },
  {
   "cell_type": "markdown",
   "id": "1af9891f-db7d-47f7-8b80-4285f5d3bdaa",
   "metadata": {},
   "source": [
    "#### University Comparison"
   ]
  },
  {
   "cell_type": "markdown",
   "id": "24918225-d07e-4735-a905-902bec2cc1ec",
   "metadata": {},
   "source": [
    "##### Modified Dataset"
   ]
  },
  {
   "cell_type": "code",
   "execution_count": 51,
   "id": "63ca6ecb-9b07-4db0-a49f-18587fbe18a9",
   "metadata": {},
   "outputs": [],
   "source": [
    "df_uni.groupby('esi').sum()\n",
    "esi = df_uni.groupby('esi').sum().index.to_list()\n",
    "unis = df_uni.groupby('institution_acr').sum().index.to_list()\n",
    "ins_df = df_uni.groupby(['institution_acr', 'esi']).sum()[['total']]\n",
    "uni_df = ins_df.unstack(level=0)\n",
    "uni_df.columns = uni_df.columns.droplevel(0)\n",
    "uni_df = uni_df.fillna(0)\n",
    "#uni_df.head()"
   ]
  },
  {
   "cell_type": "code",
   "execution_count": 52,
   "id": "46a34610-ed73-42bb-9ba4-d6d5874a5693",
   "metadata": {},
   "outputs": [],
   "source": [
    "mini_df = df_uni[['esi', 'institution_acr', 'altmetric attention score', 'twitter', 'wikipedia', 'news media', 'policy']]\n",
    "\n",
    "def get_plot(uni1='UGR', uni2='UB', field='Global'):\n",
    "    df_unis = mini_df[(mini_df.esi == field) & ((mini_df.institution_acr == uni1) | (mini_df.institution_acr == uni2))]\n",
    "    plot = df_unis.hvplot.bar(x='institution_acr', y=['altmetric attention score', 'twitter', 'wikipedia', 'news media', 'policy'], invert=True, legend=False, ylim=(0, 500000), title='University Comparison')\n",
    "    return plot\n",
    "\n",
    "# changing order of list to change default screen\n",
    "unis1 = unis.copy()\n",
    "unis1[0], unis1[36] = unis1[36], unis1[0]\n",
    "esi[0], esi[10] = esi[10], esi[0]\n",
    "\n",
    "dmap_uni_compare = hv.DynamicMap(get_plot, kdims=['uni1', 'uni2', 'field']).redim.values(uni1=unis, uni2=unis1, field=esi).opts(width=800, height=400, margins=(300, 50, 50, 50), ylabel='mentions', xlabel='')\n",
    "\n",
    "uni_compare = pn.pane.HoloViews(dmap_uni_compare, widgets={\n",
    "    'uni1': pn.widgets.Select,\n",
    "    'uni2': pn.widgets.Select,\n",
    "    'field': pn.widgets.Select}, center=True).layout"
   ]
  },
  {
   "cell_type": "markdown",
   "id": "f2d74205-ca13-4e3c-8d89-336173ae9aaa",
   "metadata": {},
   "source": [
    "#### University Rankings"
   ]
  },
  {
   "cell_type": "code",
   "execution_count": 53,
   "id": "8f775e0b-e48f-4eb8-af40-9d6c10815345",
   "metadata": {},
   "outputs": [],
   "source": [
    "def get_rankings_plot(esi='Global'):\n",
    "    df_filt = df_uni[(df_uni.esi == esi)]\n",
    "    plot = df_filt.hvplot(x='institution_acr', y=['altmetric attention score', 'twitter', 'wikipedia', 'news media', 'policy'], kind='bar', stacked=True, colorbar=False, width=600, title='University Interactions Across Fields')\n",
    "    return plot\n",
    "\n",
    "dmap_uni_rankings_overall = hv.DynamicMap(get_rankings_plot, kdims=['esi']).redim.values(esi=esi).opts(width=800, height=400, ylabel='Interactions', xlabel='', margins=(50, 100, 50, 50))\n",
    "\n",
    "uni_rankings_overall = pn.pane.HoloViews(dmap_uni_rankings_overall, widgets={'esi': pn.widgets.Select}, center=True).layout"
   ]
  },
  {
   "cell_type": "markdown",
   "id": "687fb05f-9102-4ef2-86a0-850cb643d86f",
   "metadata": {},
   "source": [
    "#### University Rankings by Metrics"
   ]
  },
  {
   "cell_type": "code",
   "execution_count": 54,
   "id": "686e70af-7d9e-4a99-a230-334e02554801",
   "metadata": {},
   "outputs": [],
   "source": [
    "def get_rankings_metric_plot(metric='altmetric attention score', esi='Global'):\n",
    "    df_filt = df_uni[(df_uni.esi == esi)]\n",
    "    plot = df_filt.hvplot(x='institution_acr', y=metric, kind='bar', colorbar=False, width=600, title='University Interactions Across Fields and Metrics')\n",
    "    return plot\n",
    "\n",
    "dmap_uni_rankings = hv.DynamicMap(get_rankings_metric_plot, kdims=['metric', 'esi']).redim.values(metric=['altmetric attention score', 'twitter', 'wikipedia', 'news media', 'policy','total'],esi=esi).opts(height=400, width=800, ylabel='Interactions', xlabel='', margins=(50, 100, 50, 50))\n",
    "\n",
    "uni_rankings = pn.pane.HoloViews(dmap_uni_rankings, widgets={\n",
    "    'metric': pn.widgets.Select,\n",
    "    'esi': pn.widgets.Select}, center=True).layout"
   ]
  },
  {
   "cell_type": "markdown",
   "id": "b093ccb5-34da-4747-867e-9093b6b20913",
   "metadata": {},
   "source": [
    "#### Intra-Institutional Comparison"
   ]
  },
  {
   "cell_type": "code",
   "execution_count": 55,
   "id": "4c496a10-ae1b-4292-9429-25fd9d524d15",
   "metadata": {},
   "outputs": [],
   "source": [
    "def get_uni_plot(uni='UGR'):\n",
    "    df_filt = df_uni[(df_uni.institution_acr == uni)]\n",
    "    plot = df_filt.hvplot(x='esi', y=['altmetric attention score', 'twitter', 'wikipedia', 'news media', 'policy'], kind='bar', stacked=True, colorbar=False, width=600, title='Intra-University Comparison')\n",
    "    return plot\n",
    "\n",
    "dmap_uni_overview = hv.DynamicMap(get_uni_plot, kdims=['uni']).redim.values(uni=unis).opts(height=400, width=800, ylabel='Interactions', xlabel='', margins=(50, 200, 50, 50))\n",
    "\n",
    "uni_overview = pn.pane.HoloViews(dmap_uni_overview, widgets={'uni': pn.widgets.Select}, center=True).layout"
   ]
  },
  {
   "cell_type": "markdown",
   "id": "69600871-0d95-4270-a42c-c7544a49b58c",
   "metadata": {},
   "source": [
    "#### About page"
   ]
  },
  {
   "cell_type": "code",
   "execution_count": 56,
   "id": "18b9acba-ca7e-49b5-aeff-a6072d3395bb",
   "metadata": {},
   "outputs": [],
   "source": [
    "#https://panel.holoviz.org/api/panel.pane.html#panel.pane.JPG\n",
    "\n",
    "# placeholder - needs to be pn.pane.something to render in Tabs\n",
    "about = pn.pane.HTML('''<h3>About</h3> \n",
    "                        <p>The visualizations here were developed using the <a href=\"https://ranking.influscience.eu/estadisticas-y-datos/\" style=\"color:#36AE7C;\">influsciencer2 dataset</a>\n",
    "                        as part of the <a href=\"https://influscience.eu/\" style=\"color:#36AE7C;\">InfluScience</a> project\n",
    "                        as a way to visualize university research interactions across different platforms and disciplines.</p>\n",
    "                        <h3>Author</h3>\n",
    "                        <h4>Jennifer Cantrell</h4>\n",
    "                        <p>Jennifer Cantrell is an undergraduate student at the University of Michigan studying Data Science and Spanish.\n",
    "                        She spent a semester studying in Granada, Spain, where she collaborated with the \n",
    "                        <a href=\"https://ec3-research.com/\" style=\"color:#36AE7C;\">EC3 Research Group</a> and\n",
    "                        InfluScience project.</p>''',\n",
    "    style={'background-color': '#F6F6F6'}, width=600, height=400)\n",
    "#about"
   ]
  },
  {
   "cell_type": "markdown",
   "id": "707b1036-4ef5-4a8c-8f41-85e0f7836529",
   "metadata": {},
   "source": [
    "#### Tabs"
   ]
  },
  {
   "cell_type": "code",
   "execution_count": 57,
   "id": "f5c76f22-563a-455e-a720-199db8e9dded",
   "metadata": {},
   "outputs": [],
   "source": [
    "tabs = pn.Tabs(\n",
    "    ('Quantity-Interactions', int_quant_compare),\n",
    "    ('University Comparison', uni_compare),\n",
    "    ('University Rankings', uni_rankings_overall),\n",
    "    ('University Rankings by Metric', uni_rankings),\n",
    "    ('Intra-University Comparison', uni_overview),\n",
    "    ('About', about),\n",
    "    dynamic=True\n",
    ")\n",
    "#tabs"
   ]
  },
  {
   "cell_type": "markdown",
   "id": "b215b049-473c-44a0-845b-a7a31a51c6e2",
   "metadata": {},
   "source": [
    "#### App"
   ]
  },
  {
   "cell_type": "code",
   "execution_count": 58,
   "id": "bc8dc85a-fc55-4c5f-a27b-6843b73a76c1",
   "metadata": {},
   "outputs": [],
   "source": [
    "pn.template.FastListTemplate(site=\"InfluScience\", title=\"Interactive Dashboard\", main=[tabs]).servable();"
   ]
  }
 ],
 "metadata": {
  "kernelspec": {
   "display_name": "Python 3 (ipykernel)",
   "language": "python",
   "name": "python3"
  },
  "language_info": {
   "codemirror_mode": {
    "name": "ipython",
    "version": 3
   },
   "file_extension": ".py",
   "mimetype": "text/x-python",
   "name": "python",
   "nbconvert_exporter": "python",
   "pygments_lexer": "ipython3",
   "version": "3.9.12"
  }
 },
 "nbformat": 4,
 "nbformat_minor": 5
}
